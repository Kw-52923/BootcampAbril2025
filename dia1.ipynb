{
 "cells": [
  {
   "cell_type": "code",
   "execution_count": 1,
   "id": "9768bb10",
   "metadata": {},
   "outputs": [
    {
     "name": "stdout",
     "output_type": "stream",
     "text": [
      "Hola Mundo\n"
     ]
    }
   ],
   "source": [
    "print(\"Hola Mundo\")"
   ]
  },
  {
   "cell_type": "code",
   "execution_count": 2,
   "id": "618c541a",
   "metadata": {},
   "outputs": [
    {
     "name": "stdout",
     "output_type": "stream",
     "text": [
      "keila\n",
      "Gonzalez\n"
     ]
    }
   ],
   "source": [
    "nombre = \"keila\"\n",
    "apellido = \"Gonzalez\"\n",
    "print(nombre)\n",
    "print(apellido)\n"
   ]
  },
  {
   "cell_type": "markdown",
   "id": "4012cf54",
   "metadata": {},
   "source": [
    "# Tipo de datos\n",
    "-int - integer - 112\n",
    "-float - floatin - 1.2\n",
    "-string \"KEila\" 'keila'\n",
    "-boolean - booll - True - False\n"
   ]
  },
  {
   "cell_type": "code",
   "execution_count": 6,
   "id": "a2b8e0f7",
   "metadata": {},
   "outputs": [
    {
     "name": "stdout",
     "output_type": "stream",
     "text": [
      "keila\n"
     ]
    }
   ],
   "source": [
    "numero = 12345\n",
    "numero_decimal = 1.2\n",
    "nombre = \"keila\"\n",
    "cajon_abierto = False\n",
    "cajon_cerrado = True\n",
    "print(nombre)"
   ]
  },
  {
   "cell_type": "markdown",
   "id": "485c4d8d",
   "metadata": {},
   "source": [
    "# Operaciones Aritmeticas \n",
    "Son los calculos que se hacen como + - * /\n",
    "\n"
   ]
  },
  {
   "cell_type": "code",
   "execution_count": null,
   "id": "3188059f",
   "metadata": {},
   "outputs": [
    {
     "name": "stdout",
     "output_type": "stream",
     "text": [
      "35000\n",
      "30000\n",
      "5066\n"
     ]
    }
   ],
   "source": [
    "precio_total = 15000 + 20000\n",
    "print(precio_total)\n",
    "precio_descuento = precio_total - 5000\n",
    "print(precio_descuento)\n",
    "# la doble // hace un redondeo\n",
    "precio_gaseosa = 19000\n",
    "cantidad_gaseosa = 4\n",
    "cantidad_personas = 15\n",
    "precio_final = precio_gaseosa * cantidad_gaseosa\n",
    "promedio_por_persona = precio_final // cantidad_personas\n",
    "print(promedio_por_persona)"
   ]
  },
  {
   "cell_type": "code",
   "execution_count": 10,
   "id": "9dfc213b",
   "metadata": {},
   "outputs": [
    {
     "name": "stdout",
     "output_type": "stream",
     "text": [
      "Total de frutas disponibles:  60\n",
      "Total de frutas restantes:  40\n"
     ]
    }
   ],
   "source": [
    "cantidad_de_manzanas = 50\n",
    "canridad_de_naranjas = 10\n",
    "cantidad_de_frutas= cantidad_de_manzanas + canridad_de_naranjas \n",
    "print(\"Total de frutas disponibles: \",cantidad_de_frutas)\n",
    "\n",
    "frutas_de_vendidas = 20\n",
    "frutas_de_restantes =cantidad_de_frutas - frutas_de_vendidas\n",
    "print(\"Total de frutas restantes: \",frutas_de_restantes)"
   ]
  },
  {
   "cell_type": "code",
   "execution_count": null,
   "id": "e70d5874",
   "metadata": {},
   "outputs": [],
   "source": [
    "#Concatenar variables\n",
    "#Al usar la coma despues del print separan elementos\n",
    "#La f {}{} y el + si concatenan\n",
    "nombre = \"keila\"\n",
    "apellido = \"Lopez\"\n",
    "nombre_completo = nombre + apellido\n",
    "print(nombre_completo)\n",
    "print( nombre + '' + apellido)\n",
    "print(\"Hola,mi nombre es \" + '' + nombre + '' + apellido)\n",
    "print(f\"Hola,mi nombre es {nombre} {apellido}\")"
   ]
  },
  {
   "cell_type": "markdown",
   "id": "b05a03e7",
   "metadata": {},
   "source": [
    "# Challenge - 10m -\n",
    "-Asignar el nombre y el apellido de tu compañero/a a las variable nombre,apellido. Luego imprimir una frase utilizando las variables.Ejemplo: \"Hola,me llamo ..... Mucho gusto.\""
   ]
  },
  {
   "cell_type": "code",
   "execution_count": 14,
   "id": "0e990292",
   "metadata": {},
   "outputs": [
    {
     "name": "stdout",
     "output_type": "stream",
     "text": [
      "Hola, mi nombre es Marcos Meza\n"
     ]
    }
   ],
   "source": [
    "nombre = \"Marcos\"\n",
    "apellido = \"Meza\"\n",
    "\n",
    "print(f\"Hola, mi nombre es {nombre} {apellido}\")"
   ]
  },
  {
   "cell_type": "code",
   "execution_count": 15,
   "id": "381ed6d5",
   "metadata": {},
   "outputs": [
    {
     "name": "stdout",
     "output_type": "stream",
     "text": [
      "Keila\n",
      "1011\n",
      "21\n"
     ]
    }
   ],
   "source": [
    "#Input\n",
    "nombre = input(\"Cual es tu nombre?\")\n",
    "print(nombre)\n",
    "numero1 = input(\"Dame un numero\")\n",
    "numero2 = input(\"Dame otro numero\")\n",
    "suma = numero1 + numero2\n",
    "print(suma)\n",
    "#ahi solo concatena no suma\n",
    "#Ahora como quiero que sume hago esto\n",
    "suma = int(numero1) + int(numero2)\n",
    "print(suma)"
   ]
  },
  {
   "cell_type": "code",
   "execution_count": 16,
   "id": "3d2cb8ef",
   "metadata": {},
   "outputs": [
    {
     "name": "stdout",
     "output_type": "stream",
     "text": [
      "<class 'str'>\n"
     ]
    }
   ],
   "source": [
    "print(type(numero1))"
   ]
  },
  {
   "cell_type": "markdown",
   "id": "be43e7e3",
   "metadata": {},
   "source": [
    "# Challenge -10m\n",
    "-Solicitar al usuario ingresar dos numeros y alamcenarlos en dos variables.Luego \n",
    "imprimir la suma de los dos numeros."
   ]
  },
  {
   "cell_type": "code",
   "execution_count": 18,
   "id": "8861f1a1",
   "metadata": {},
   "outputs": [
    {
     "name": "stdout",
     "output_type": "stream",
     "text": [
      "La suma es: 60\n"
     ]
    }
   ],
   "source": [
    "numero1= input(\"Dame un numero \")\n",
    "numero2= input(\"Dame otro numero \")\n",
    "suma = int(numero1) + int(numero2)\n",
    "print(\"La suma es:\",suma)"
   ]
  },
  {
   "cell_type": "markdown",
   "id": "1151b3c4",
   "metadata": {},
   "source": [
    "# Funciones\n",
    "  - Es cuando haces un ejercicio y la funcion lo que hace es que ayuda a no repetir lo mismo \n",
    "  - El = es una asignacion.\n",
    "  - El : es lo que viene despues de esa asignacion Eje:es como una sangria que se genera despues del dos puntos.\n",
    "  - Y la sagria que genera se llama INDENTACION."
   ]
  },
  {
   "cell_type": "code",
   "execution_count": 25,
   "id": "ae49d182",
   "metadata": {},
   "outputs": [
    {
     "name": "stdout",
     "output_type": "stream",
     "text": [
      "Abrir el pan\n",
      "agregar jamon\n",
      "agregar queso\n",
      "cerrar el pan\n",
      "Listo\n"
     ]
    }
   ],
   "source": [
    "def preparar_sandwich():\n",
    "    print(\"Abrir el pan\")\n",
    "    print(\"agregar jamon\")\n",
    "    print(\"agregar queso\")\n",
    "    print(\"cerrar el pan\")\n",
    "    print(\"Listo\")\n",
    "\n",
    "preparar_sandwich() #Acá se llama otra vez a la funcion ,si quiero preparar 3 sandwich\n",
    "# pongo 3 veces esta funcion.\n",
    "\n"
   ]
  },
  {
   "cell_type": "markdown",
   "id": "afea7efe",
   "metadata": {},
   "source": [
    "# Challenge\n",
    "- Crear una funcion de un proceso que se les ocurra que tenga varios pasos.\n",
    "Ejecutar la funcion 3 veces."
   ]
  },
  {
   "cell_type": "code",
   "execution_count": 24,
   "id": "238c5f3a",
   "metadata": {},
   "outputs": [
    {
     "name": "stdout",
     "output_type": "stream",
     "text": [
      "Preparar materiales\n",
      "Calentar agua\n",
      "Servir en una taza\n",
      "Agregar cafe\n",
      "Agregar azucar\n",
      "Revolver el cafe\n",
      "A disfrutar\n",
      "Preparar materiales\n",
      "Calentar agua\n",
      "Servir en una taza\n",
      "Agregar cafe\n",
      "Agregar azucar\n",
      "Revolver el cafe\n",
      "A disfrutar\n",
      "Preparar materiales\n",
      "Calentar agua\n",
      "Servir en una taza\n",
      "Agregar cafe\n",
      "Agregar azucar\n",
      "Revolver el cafe\n",
      "A disfrutar\n"
     ]
    }
   ],
   "source": [
    "def preparar_cafe():\n",
    "    print(\"Preparar materiales\")\n",
    "    print(\"Calentar agua\")\n",
    "    print(\"Servir en una taza\")\n",
    "    print(\"Agregar cafe\")\n",
    "    print(\"Agregar azucar\")\n",
    "    print(\"Revolver el cafe\")\n",
    "    print(\"A disfrutar\")\n",
    "\n",
    "preparar_cafe()\n",
    "preparar_cafe()\n",
    "preparar_cafe()\n"
   ]
  },
  {
   "cell_type": "markdown",
   "id": "47eecb0b",
   "metadata": {},
   "source": [
    "# Parametro y argumentos\n",
    "\n",
    "- Es lo que nosotros necesitamos para que la funcion se ejecute.Eje: Un triangulo tiene el perimetro de L*3,el 3 es el parametro y la L es el argumento,es aquel que esta esperando un valor\n",
    "- Es el que le da valor a un argumento Eje: es el que le va dar valor a la L"
   ]
  },
  {
   "cell_type": "code",
   "execution_count": null,
   "id": "8f5cb669",
   "metadata": {},
   "outputs": [],
   "source": [
    "def preparar_sandwich(ingrediente):\n",
    "    print(\"Abrir el pan\")\n",
    "    print(\"agregar\" + ingrediente)\n",
    "    print(\"cerrar el pan\")\n",
    "    print(\"Listo\")\n",
    "preparar_sandwich(\"Huevo\")\n",
    "preparar_sandwich(\"tomate y lechuga\")\n"
   ]
  },
  {
   "cell_type": "code",
   "execution_count": 28,
   "id": "1f6270f3",
   "metadata": {},
   "outputs": [
    {
     "name": "stdout",
     "output_type": "stream",
     "text": [
      "Talle 38\n",
      "Agregar colorNegro\n",
      "Suela blanca\n",
      "Textura de cuerina\n",
      "Listo\n"
     ]
    }
   ],
   "source": [
    "\n",
    "def comprar_tenis(carateristicas):\n",
    "    print(\"Talle 38\")\n",
    "    print(\"Agregar color\" + carateristicas)\n",
    "    print(\"Suela blanca\")\n",
    "    print(\"Textura de cuerina\")\n",
    "    print(\"Listo\")\n",
    "comprar_tenis(\"Negro\")"
   ]
  },
  {
   "cell_type": "markdown",
   "id": "6c412d12",
   "metadata": {},
   "source": [
    "# Variable Local o GLobal\n",
    "- Es la variable que se encuentra fuera y se puede volver a utilizar\n",
    "- y el local solo se puede usar en ese bloque de codigo."
   ]
  },
  {
   "cell_type": "code",
   "execution_count": 31,
   "id": "fc6f5169",
   "metadata": {},
   "outputs": [
    {
     "name": "stdout",
     "output_type": "stream",
     "text": [
      "Estoy cocinando carne\n"
     ]
    }
   ],
   "source": [
    "def preparar_comida():\n",
    "    ingrediente = \"carne\"\n",
    "    print(f\"Estoy cocinando {ingrediente}\")\n",
    "preparar_comida()\n"
   ]
  }
 ],
 "metadata": {
  "kernelspec": {
   "display_name": "Python 3",
   "language": "python",
   "name": "python3"
  },
  "language_info": {
   "codemirror_mode": {
    "name": "ipython",
    "version": 3
   },
   "file_extension": ".py",
   "mimetype": "text/x-python",
   "name": "python",
   "nbconvert_exporter": "python",
   "pygments_lexer": "ipython3",
   "version": "3.13.3"
  }
 },
 "nbformat": 4,
 "nbformat_minor": 5
}
