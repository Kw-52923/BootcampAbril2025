{
 "cells": [
  {
   "cell_type": "code",
   "execution_count": null,
   "id": "e86e7550",
   "metadata": {},
   "outputs": [],
   "source": [
    "#Esto es para pedir el nombre de una persona.\n",
    "# Lo que va entre parentesis es el parametro\n",
    "def saludo_bienvenida(nombre):\n",
    "    print(f\"Buen dia {nombre}\")\n"
   ]
  },
  {
   "cell_type": "code",
   "execution_count": 3,
   "id": "a2313cfc",
   "metadata": {},
   "outputs": [
    {
     "name": "stdout",
     "output_type": "stream",
     "text": [
      "Buen dia Kiela\n"
     ]
    }
   ],
   "source": [
    "saludo_bienvenida(\"Kiela\")"
   ]
  },
  {
   "cell_type": "code",
   "execution_count": null,
   "id": "f90ff0bc",
   "metadata": {},
   "outputs": [],
   "source": [
    "nombre = input(\"Ingrese su nombre\")\n",
    "saludo_bienvenida(nombre)"
   ]
  },
  {
   "cell_type": "markdown",
   "id": "0bf2e821",
   "metadata": {},
   "source": [
    "# Condicionales\n",
    "- Es lo que nos permiten que los codigos se ejecuten o no.\n",
    "- Eje: ES como un guardia que decide si entras o no\n",
    "# Operadores de comparacion\n",
    "- Eduardo es igual a Carla es cuando se usa el ==\n",
    "- Mayor ,menor , mayor que, menor que ,\n",
    "# Palabras Claves\n",
    "- if (si)\n",
    "-elif (sino si)\n",
    "-else (sino)"
   ]
  },
  {
   "cell_type": "code",
   "execution_count": 4,
   "id": "bb309579",
   "metadata": {},
   "outputs": [
    {
     "name": "stdout",
     "output_type": "stream",
     "text": [
      "Es mayor,puede ingresar\n"
     ]
    }
   ],
   "source": [
    "edad = 18 \n",
    "if edad < 18:\n",
    "    print(\"Es Menor,no podes ingresar\")\n",
    "else:\n",
    "    print(\"Es mayor,puede ingresar\")\n"
   ]
  },
  {
   "cell_type": "code",
   "execution_count": 5,
   "id": "7b837201",
   "metadata": {},
   "outputs": [
    {
     "name": "stdout",
     "output_type": "stream",
     "text": [
      "Trabajador\n"
     ]
    }
   ],
   "source": [
    "edad_individuo = 15\n",
    "if edad_individuo < 15:\n",
    "    print(\"Estudiante\")\n",
    "elif edad_individuo > 65:\n",
    "    print(\"Jubilado\")\n",
    "else:\n",
    "    print(\"Trabajador\")\n",
    "   "
   ]
  },
  {
   "cell_type": "markdown",
   "id": "61dffad5",
   "metadata": {},
   "source": [
    "# Challenge🤺 - 20m\n",
    "Escribe un programa que pregunte al usuario por su edad y determine si tiene edad suficiente para comprar y consumir alcohol.\n",
    "Si el usuario tiene mas de 18 pero menos de 21 impirmir \"Podes tomar pero no comprar\"\n",
    "Si el usuario tiene menos de 18 imprimir \"Juguito nomas\"\n",
    "Si el usuario tiene mas de 21 imprimir \"Hace lo que quieras\"\n"
   ]
  },
  {
   "cell_type": "code",
   "execution_count": null,
   "id": "f579fe83",
   "metadata": {},
   "outputs": [
    {
     "name": "stdout",
     "output_type": "stream",
     "text": [
      "Juguito nomas\n"
     ]
    }
   ],
   "source": [
    "edad_usuario = int (input(\"Indica tu edad\")) \n",
    "if edad_usuario < 18:\n",
    "    print(\"Juguito nomas\")\n",
    "elif edad_usuario > 21:\n",
    "    print(\"Hace lo que quieras\")\n",
    "else:\n",
    "    print(\"Podes tomar pero no comprar\")\n",
    "    "
   ]
  },
  {
   "cell_type": "markdown",
   "id": "10028b69",
   "metadata": {},
   "source": [
    "# Operadores Logicos\n",
    "- Nos permite combinar condiciones\n",
    "- and \n",
    "- or\n",
    "- not"
   ]
  },
  {
   "cell_type": "code",
   "execution_count": 12,
   "id": "d4e0e7c5",
   "metadata": {},
   "outputs": [
    {
     "name": "stdout",
     "output_type": "stream",
     "text": [
      "Jubilado\n"
     ]
    }
   ],
   "source": [
    "edad_persona = 70\n",
    "trabaja = True\n",
    "if edad_persona < 18:\n",
    "    print(\"Estudiante\")\n",
    "elif edad_persona < 65 and trabaja == True:\n",
    "     print(\"Tabajando\")\n",
    "elif edad_persona < 65 and trabaja == False:\n",
    "    print(\"Desempleado\")\n",
    "else:\n",
    "    print(\"Jubilado\")\n"
   ]
  },
  {
   "cell_type": "markdown",
   "id": "eeadde2a",
   "metadata": {},
   "source": [
    "# Challenge 🤺 - 30m\n",
    "Escribir un programa en el que se pregunte al usuario por una temperatura (en grados Celsius), imprima la temperatura escrita, y luego clasificar la temperatura ingresada en los siguientes niveles:\n",
    "\n",
    "Entre -10 y 18 grados, que imprima \"Fresquete\".\n",
    "Entre 19 y 30 grados, que imprima \"Calor'i\".\n",
    "Entre 31 y 45 grados, que imprima \"Hakuuuuuu\".\n",
    "Para todo lo demás, imprimir \"Ñamano mba'e!\"."
   ]
  },
  {
   "cell_type": "code",
   "execution_count": 16,
   "id": "33dc0f01",
   "metadata": {},
   "outputs": [
    {
     "name": "stdout",
     "output_type": "stream",
     "text": [
      "Temperatura actual 50\n",
      "Ñamano Mba'e\n"
     ]
    }
   ],
   "source": [
    "temperatura = int (input(\"Ingresa la temperatura\")) \n",
    "print(f\"Temperatura actual {temperatura}\")\n",
    "if -10 <= temperatura <= 18:\n",
    "    print(\"Fresquete\")\n",
    "elif 19 <= temperatura <= 30:\n",
    "    print (\"Calor'i\")\n",
    "elif 31 <= temperatura <= 45:\n",
    "    print(\"Hakuuuuu\")\n",
    "else:\n",
    "    print(\"Ñamano Mba'e\")\n"
   ]
  },
  {
   "cell_type": "markdown",
   "id": "13fe45b6",
   "metadata": {},
   "source": [
    "# Bucles\n",
    "## While (Mientras)\n",
    "- NOs permite ejecutar una serie de instrucciones mientras una condicion se cumpla"
   ]
  },
  {
   "cell_type": "code",
   "execution_count": null,
   "id": "23b3c68f",
   "metadata": {},
   "outputs": [],
   "source": [
    "# != mientras sea diferente\n",
    "numero_a_adivinar = 10\n",
    "numero = 3\n",
    "\n",
    "while numero != numero_a_adivinar:\n",
    "    numero = int(input(\"Introduce un numero\"))\n",
    "    print(numero)\n",
    "print(\"numero correcto\")"
   ]
  },
  {
   "cell_type": "markdown",
   "id": "55b5792b",
   "metadata": {},
   "source": [
    "-El While True eternamente se va cumplir"
   ]
  },
  {
   "cell_type": "code",
   "execution_count": null,
   "id": "20f51b44",
   "metadata": {},
   "outputs": [],
   "source": [
    "numero = 10\n",
    "while True:\n",
    "    numero_ingresado = int(input(\"Introduce el numero\"))\n",
    "    if numero_ingresado == numero:\n",
    "        print(\"El numero es correcto\")\n",
    "        break # Corta el programa\n",
    "    else:\n",
    "        print(\"numero incorrecto\")"
   ]
  },
  {
   "cell_type": "markdown",
   "id": "84434c48",
   "metadata": {},
   "source": [
    "# Challenge 🤺 - 20m\n",
    "Escribir un programa que almacene una contraseña en una variable, y pregunte al usuario por la contraseña hasta que introduzca la contraseña correcta.\n",
    "\n",
    "Cuando el usuario ingrese la contrasena correcta, imprimir un mensaje secreto."
   ]
  },
  {
   "cell_type": "code",
   "execution_count": null,
   "id": "190edf0c",
   "metadata": {},
   "outputs": [
    {
     "name": "stdout",
     "output_type": "stream",
     "text": [
      "Contraseña incorrecta\n",
      "Contraseña correcta\n"
     ]
    }
   ],
   "source": [
    "contraseña = 2002\n",
    "while True:\n",
    "    nueva_contraseña = int (input(\"Ingrese su contraseña\"))\n",
    "    if nueva_contraseña == contraseña:\n",
    "        print(\"Contraseña correcta\")\n",
    "        break\n",
    "    else:\n",
    "        print(\"Contraseña incorrecta\")"
   ]
  },
  {
   "cell_type": "markdown",
   "id": "7218b981",
   "metadata": {},
   "source": [
    "# Listas\n",
    "- Es una agrupacion de objetos, que pueden ser de distintos tipos de datos y se construye entre corchetes "
   ]
  },
  {
   "cell_type": "code",
   "execution_count": null,
   "id": "551c4e5c",
   "metadata": {},
   "outputs": [],
   "source": [
    "lista_frutas = [\"pera\",\"manzana\",\"banana\"]\n",
    "#\n",
    "lista_bool = [True,False,True]\n",
    "lista_numeros = [1,2,3,4]\n",
    "print(lista_frutas[2])\n",
    "#Modificar\n",
    "lista_frutas[1]=\"durazno\"\n",
    "print(lista_frutas)\n",
    "#Eliminar un elemento especifico\n",
    "lista_frutas.remove(\"pera\")\n",
    "print(lista_frutas)\n",
    "#Eliminar elemento por indice\n",
    "lista_frutas.pop(1)\n",
    "print(lista_frutas)\n",
    "\n",
    "#Contar elementos de la lista\n",
    "print(len(lista_frutas))\n"
   ]
  },
  {
   "cell_type": "markdown",
   "id": "3c150bde",
   "metadata": {},
   "source": [
    "# Challenge 🤺 - 20m\n",
    "Crear una lista de 5 elementos. Luego, seguir los siguientes pasos.\n",
    "\n",
    "Agregar un elemento al final de la lista.\n",
    "\n",
    "Modificar el segundo elemento.\n",
    "\n",
    "Eliminar el tercer elemento."
   ]
  },
  {
   "cell_type": "code",
   "execution_count": null,
   "id": "d806033a",
   "metadata": {},
   "outputs": [
    {
     "name": "stdout",
     "output_type": "stream",
     "text": [
      "['Azul', 'Rosado', 'Verde', 'Amarillo', 'Lila']\n"
     ]
    }
   ],
   "source": [
    "#Lista \n",
    "lista_colores = [\"Azul\",\"Rojo\",\"Negro\",\"Verde\",\"Amarillo\"]\n",
    "#Agregar\n",
    "lista_colores.append(\"Lila\")\n",
    "#Modificar el segundo elemento de acuerdo al indice\n",
    "lista_colores[1]=\"Rosado\"\n",
    "#Eliminar el elemento\n",
    "lista_colores.pop(2)\n",
    "print(lista_colores)"
   ]
  },
  {
   "cell_type": "markdown",
   "id": "00c63d77",
   "metadata": {},
   "source": [
    "# Iteraciones\n",
    "- Cuando queremos repetir una accion una cierta cantidad de veces,podemos utilizar un bucle iterativo\n",
    "Iteraciones"
   ]
  },
  {
   "cell_type": "code",
   "execution_count": null,
   "id": "ff6fc742",
   "metadata": {},
   "outputs": [],
   "source": [
    "dias_de_la_semana = [1,2,3,4,5,6,7]\n",
    "# i es una variable y for es una paralabra reservada\n",
    "for i in dias_de_la_semana:\n",
    "    print(i)"
   ]
  },
  {
   "cell_type": "code",
   "execution_count": null,
   "id": "8a7ed222",
   "metadata": {},
   "outputs": [],
   "source": [
    "# Range es el rango de cuantas veces queres que te repita\n",
    "for i in range(5):\n",
    "    print(\"Hola buen dia\")"
   ]
  },
  {
   "cell_type": "code",
   "execution_count": null,
   "id": "56df301e",
   "metadata": {},
   "outputs": [],
   "source": [
    "lista_colores = [\"Azul\",\"Rojo\",\"Negro\",\"Verde\",\"Amarillo\"]\n",
    "for colores in lista_colores:\n",
    "    print(colores)"
   ]
  },
  {
   "cell_type": "markdown",
   "id": "9f4721d3",
   "metadata": {},
   "source": [
    "# Challenge 🤺 - 20m\n",
    "Escribir un programa que itere en un rango de 10 veces. Por cada iteracion multiplicar el iterador por dos e imprimir el resultado."
   ]
  },
  {
   "cell_type": "code",
   "execution_count": null,
   "id": "33c3cc3c",
   "metadata": {},
   "outputs": [],
   "source": [
    "for recorrido in range(1,11):\n",
    "    multiplicacion = recorrido * 2\n",
    "    print(f\"Los resultados de la multiplicacion son: {multiplicacion}\")"
   ]
  },
  {
   "cell_type": "markdown",
   "id": "8f121db7",
   "metadata": {},
   "source": [
    "# Challenge 🤺 - 20m\n",
    "Recorrer los elementos de una lista de marcas e imprimir cada marca solamente si tiene 6 letras o más."
   ]
  },
  {
   "cell_type": "code",
   "execution_count": null,
   "id": "26200197",
   "metadata": {},
   "outputs": [],
   "source": [
    "# Crear una lista de marcas\n",
    "#Recorrer la lista de marcas\n",
    "#Crar una condicion, si la palabra tiene mas de 6 letras\n",
    "#Con la condicion lend\n",
    "#Imprimir solamente los correctos\n",
    "lista_marcas = [\"Zara\",\"Louis Vuitton\",\"Reebook\",\"Adidas\"]\n",
    "for marca in lista_marcas:\n",
    "    if len(marca) >= 6: #Len devuelve la cantidad de elementos\n",
    "        print(f\"Los elementos tienen 6 o mas caracteres {marca}\")"
   ]
  },
  {
   "cell_type": "code",
   "execution_count": 37,
   "id": "80ec1f6f",
   "metadata": {},
   "outputs": [
    {
     "name": "stdout",
     "output_type": "stream",
     "text": [
      "s\n",
      "a\n",
      "l\n",
      "u\n",
      "d\n",
      "o\n"
     ]
    }
   ],
   "source": [
    "for letra in \"saludo\":\n",
    "    print(letra)"
   ]
  },
  {
   "cell_type": "markdown",
   "id": "30e43738",
   "metadata": {},
   "source": [
    "# Challenge 🤺 - 15m\n",
    "Solicitar al usuario que ingrese una frase.\n",
    "\n",
    "Imprimir un mensaje cada vez que se encuentre una letra \"o\"."
   ]
  },
  {
   "cell_type": "code",
   "execution_count": 43,
   "id": "ab307c2e",
   "metadata": {},
   "outputs": [
    {
     "name": "stdout",
     "output_type": "stream",
     "text": [
      "Estas palabras tienen o  \n",
      "Estas palabras tienen o  \n"
     ]
    }
   ],
   "source": [
    "# Solicitar al usuario que ingrese una frase\n",
    "frase =  input(\"Ingrese una frase\") \n",
    "#Imprimir un mensaje cada vez que tenga o \n",
    "for letra in frase:\n",
    "    if letra == \"o\":\n",
    "        print(\"Estas palabras tienen o  \")"
   ]
  }
 ],
 "metadata": {
  "kernelspec": {
   "display_name": "Python 3",
   "language": "python",
   "name": "python3"
  },
  "language_info": {
   "codemirror_mode": {
    "name": "ipython",
    "version": 3
   },
   "file_extension": ".py",
   "mimetype": "text/x-python",
   "name": "python",
   "nbconvert_exporter": "python",
   "pygments_lexer": "ipython3",
   "version": "3.13.3"
  }
 },
 "nbformat": 4,
 "nbformat_minor": 5
}
