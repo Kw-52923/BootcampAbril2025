{
 "cells": [
  {
   "cell_type": "code",
   "execution_count": 2,
   "id": "c9aea18b",
   "metadata": {},
   "outputs": [
    {
     "name": "stdout",
     "output_type": "stream",
     "text": [
      "Hola Mundo\n"
     ]
    }
   ],
   "source": [
    "def imprimir_saludo():\n",
    "    print(\"Hola Mundo\")\n",
    "imprimir_saludo()"
   ]
  },
  {
   "cell_type": "markdown",
   "id": "c884a1e2",
   "metadata": {},
   "source": [
    "# Challenge 1 🤺 - 10m\n",
    "- Crear una función que imprima la variable palabra."
   ]
  },
  {
   "cell_type": "code",
   "execution_count": null,
   "id": "dafd6155",
   "metadata": {},
   "outputs": [
    {
     "name": "stdout",
     "output_type": "stream",
     "text": [
      "La respuesta es: Palabra\n"
     ]
    }
   ],
   "source": [
    "# Defino mi variable\n",
    "variable = \"Palabra\"\n",
    "# Creo mi funcion\n",
    "def imprimir_palabra():\n",
    "    print(f\"La respuesta es: {variable}\")\n",
    "# Imprimo mi palabra.\n",
    "imprimir_palabra()\n",
    "    "
   ]
  },
  {
   "cell_type": "code",
   "execution_count": null,
   "id": "ef5c67ee",
   "metadata": {},
   "outputs": [],
   "source": [
    "def sumar_numeros(numero1,numero2):\n",
    "    suma = numero1 + numero2\n",
    "    print(suma) \n",
    "sumar_numeros(1,2)"
   ]
  },
  {
   "cell_type": "markdown",
   "id": "5358feb6",
   "metadata": {},
   "source": [
    "# Challenge 2 🤺 - 20 min\n",
    "Crear una función que reciba dos letras (parámetros) y que verifique si son iguales:\n",
    "\n",
    "Si son iguales, imprimir \"Las letras son iguales\".\n",
    "\n",
    "De lo contrario, imprimir \"Las letras son diferentes\"."
   ]
  },
  {
   "cell_type": "code",
   "execution_count": 5,
   "id": "9c50df1d",
   "metadata": {},
   "outputs": [
    {
     "name": "stdout",
     "output_type": "stream",
     "text": [
      "Las letras son iguales\n"
     ]
    }
   ],
   "source": [
    "def imprimir_letra (letra1 , letra2 ):\n",
    "    if letra1.lower() == letra2.lower():\n",
    "        print(\"Las letras son iguales\")\n",
    "    else:\n",
    "        print(\"Las letras son diferentes\")\n",
    "imprimir_letra(\"c\",\"c\")"
   ]
  },
  {
   "cell_type": "code",
   "execution_count": 6,
   "id": "47dc74d8",
   "metadata": {},
   "outputs": [
    {
     "name": "stdout",
     "output_type": "stream",
     "text": [
      "7\n"
     ]
    }
   ],
   "source": [
    "def suma(numero1,numero2):\n",
    "    suma = numero1 + numero2\n",
    "    print(suma)\n",
    "suma(3,4)\n"
   ]
  },
  {
   "cell_type": "code",
   "execution_count": null,
   "id": "8ce04871",
   "metadata": {},
   "outputs": [
    {
     "data": {
      "text/plain": [
       "7"
      ]
     },
     "execution_count": 7,
     "metadata": {},
     "output_type": "execute_result"
    }
   ],
   "source": [
    "def sumatoria(numero1,numero2):\n",
    "    suma = numero1 + numero2\n",
    "    return suma # El return retorna el resultado\n",
    "suma(3,4)"
   ]
  },
  {
   "cell_type": "code",
   "execution_count": null,
   "id": "f05fad93",
   "metadata": {},
   "outputs": [],
   "source": [
    "suma1 = suma(3,4)\n",
    "suma = suma + 1\n",
    "print(total)"
   ]
  },
  {
   "cell_type": "markdown",
   "id": "c8f1a3ec",
   "metadata": {},
   "source": [
    "# Challenge 3 🤺 - 20m\n",
    "Crear una función que reciba dos parámetros (una palabra y un número), y que retorne True si el número es igual a la cantidad de letras de la palabra. En caso contrario, que retorne False.\n",
    "\n",
    "Pista: cantidad de letras de una palabra en python"
   ]
  },
  {
   "cell_type": "code",
   "execution_count": null,
   "id": "47886ca3",
   "metadata": {},
   "outputs": [
    {
     "name": "stdout",
     "output_type": "stream",
     "text": [
      "False\n"
     ]
    }
   ],
   "source": [
    "#Defino mi funcion que los parametros son palabra y numero \n",
    "def comparacion (palabra , numero):\n",
    "    # Aca hace la comparacion con la palabra y el numero\n",
    "    if len(palabra) == numero:\n",
    "        print(True)\n",
    "    else:\n",
    "        print(False)\n",
    "comparacion (\"Software\" , 5)"
   ]
  },
  {
   "cell_type": "code",
   "execution_count": null,
   "id": "19c3a94b",
   "metadata": {},
   "outputs": [],
   "source": [
    "# Esto tambien es valida pero con el input.\n",
    "def compararcantidad(palabra, numero):\n",
    "    while len(palabra) != numero:\n",
    "        print(\"False\")\n",
    "    print(\"True\")\n",
    "\n",
    "palabra = input(\"Ingrese la palabra: \")\n",
    "numero_ = int(input(\"Ingrese el número: \"))\n",
    "\n",
    "compararcantidad(palabra, numero_)\n"
   ]
  },
  {
   "cell_type": "code",
   "execution_count": null,
   "id": "1b8234b6",
   "metadata": {},
   "outputs": [],
   "source": [
    "palabra_a_encontrar = input(\"ingrese una palabra\")\n",
    "print(palabra_a_encontrar)\n",
    "palabra_ingresada = input(\"Ingrese otra palabra\")\n",
    "print(palabra_ingresada)\n"
   ]
  },
  {
   "cell_type": "code",
   "execution_count": null,
   "id": "ed63b1aa",
   "metadata": {},
   "outputs": [],
   "source": [
    "#Esto es para hacer una lista \n",
    "lista_de_la_palabra_a_encontrar = list(palabra_a_encontrar)\n",
    "print(lista_de_la_palabra_a_encontrar)\n",
    "lista_de_la_palabra_ingresada = list(palabra_ingresada)\n",
    "print(lista_de_la_palabra_ingresada)"
   ]
  },
  {
   "cell_type": "markdown",
   "id": "f272082f",
   "metadata": {},
   "source": [
    "# Challenge 5 🤺 - 25m\n",
    "Pedir al usuario que ingrese 1 palabra, luego convertir esa palabra a una lista con sus caracteres con list(). Agregar esa lista de caracteres a una lista llamada palabras_ingresadas. Repetir el proceso 3 veces. Cada vez que se agregue una lista de caracteres, imprimir la lista palabras_ingresadas.\n",
    "\n",
    "\n",
    "Ejemplo del resultado esperado:\n",
    "\n",
    "[['c', 'i', 'e', 'l', 'o']]\n",
    " # Al ingresar la primera palabra\n",
    "\n",
    "[['c', 'i', 'e', 'l', 'o'], ['c', 'a', 'l', 'o', 'r']]\n",
    " # Al ingresar la segunda palabra\n",
    "\n",
    "[['c', 'i', 'e', 'l', 'o'], ['c', 'a', 'l', 'o', 'r'], ['n', 'u', 'b', 'e', 's']]\n",
    " # Al ingresar la tercera palabra"
   ]
  },
  {
   "cell_type": "code",
   "execution_count": null,
   "id": "2a2b57b7",
   "metadata": {},
   "outputs": [
    {
     "name": "stdout",
     "output_type": "stream",
     "text": [
      "[['c', 'a', 's', 'a']]\n",
      "[['c', 'a', 's', 'a'], ['p', 'e', 'r', 'r', 'o']]\n",
      "[['c', 'a', 's', 'a'], ['p', 'e', 'r', 'r', 'o'], ['g', 'a', 't', 'o']]\n"
     ]
    }
   ],
   "source": [
    "# Pedido de ingreso de la palabra.[] es para la lista\n",
    "palabra_ingresada = [] \n",
    "# Para que se repita 3 veces\n",
    "for palabra in range(3):\n",
    "    caracteres = input(\"Ingrese una palabra\")\n",
    "    # Realiza la lista de las palabras o caracteres que ingrese\n",
    "    lista_de_palabras = list(caracteres)\n",
    "    #Agrega la lista a la otra lista con el append\n",
    "    palabra_ingresada.append(lista_de_palabras)\n",
    "    #Imprime la lista \n",
    "    print(palabra_ingresada)\n"
   ]
  },
  {
   "cell_type": "code",
   "execution_count": null,
   "id": "f8408bab",
   "metadata": {},
   "outputs": [],
   "source": [
    "# Crear una funcion que contenga dos parametros\n",
    "def obtener_fila_verificada(palabra_a_encontrar , palabra_ingresada):\n",
    "    #Segundo: definir la cantidad de letras de la palabra a encontrar\n",
    "    cantidad_de_letras_a_encontrar=5\n",
    "    # Crear lista vacia para guardar las letras verificadas\n",
    "    letras_verificadas = []\n",
    "    # \n",
    "    for posicion in range (cantidad_de_letras_a_encontrar):\n",
    "        las_letras_son_iguales = palabra_a_encontrar[posicion] == palabra_ingresada[posicion]\n",
    "     #SE verifica la cantidad de las letras que existen en la palabra a encontar\n",
    "        la_letra_existe_en_palabra = palabra_ingresada[posicion] in palabra_a_encontrar\n",
    "    if las_letras_son_iguales:\n",
    "        letras_verificadas.append(\"[\" + palabra_ingresada[posicion] + \"]\")\n",
    "    elif la_letra_existe_en_palabra:\n",
    "        letras_verificadas.append(\"(\" + palabra_ingresada[posicion] + \")\")\n",
    "    else:\n",
    "        letras_verificadas.append(palabra_ingresada[posicion])\n",
    "        return letras_verificadas\n",
    "\n",
    "\n"
   ]
  },
  {
   "cell_type": "code",
   "execution_count": null,
   "id": "79826d39",
   "metadata": {},
   "outputs": [],
   "source": [
    "palabra_a_encontrar = (\"huevo\")\n",
    "palabra_ingresada = input(\"Ingrese una plabra de 5 letras\")\n",
    "\n",
    "linea_verificada = obtener_fila_verificada(palabra_a_encontrar , palabra_ingresada)\n",
    "print(linea_verificada)"
   ]
  },
  {
   "cell_type": "markdown",
   "id": "ff99ffd2",
   "metadata": {},
   "source": [
    "# Challenge 6 🤺 - 25m\n",
    "Dada la lista de ejemplo: \n",
    "\n",
    "lista = [['h', 'o', 'l', 'i', 's'], ['h', 'e', 'l', 'l', 'o'], ['h', 'a', 'l', 'l', 'o']]\n",
    "\n",
    "Crear una función que imprima una grilla (lista de listas), una línea por cada lista dentro de la lista principal.\n",
    "\n",
    "Ejemplo del resultado esperado:\n",
    "\n",
    "- ['h', 'o', 'l', 'i', 's']\n",
    "- ['h', 'e', 'l', 'l', 'o']\n",
    "- ['h', 'a', 'l', 'l', 'o']"
   ]
  },
  {
   "cell_type": "markdown",
   "id": "e2c46523",
   "metadata": {},
   "source": [
    "# Challenge 6 🤺 - 25m\n",
    "Dada la lista de ejemplo: \n",
    "\n",
    "lista = [['h', 'o', 'l', 'i', 's'], ['h', 'e', 'l', 'l', 'o'], ['h', 'a', 'l', 'l', 'o']]\n",
    "\n",
    "Crear una función que imprima una grilla (lista de listas), una línea por cada lista dentro de la lista principal.\n",
    "\n",
    "Ejemplo del resultado esperado:\n",
    "- ['h', 'o', 'l', 'i', 's']\n",
    "- ['h', 'e', 'l', 'l', 'o']\n",
    "- ['h', 'a', 'l', 'l', 'o']"
   ]
  },
  {
   "cell_type": "code",
   "execution_count": null,
   "id": "73568c99",
   "metadata": {},
   "outputs": [
    {
     "name": "stdout",
     "output_type": "stream",
     "text": [
      "['h', 'o', 'l', 'i', 's']\n",
      "['h', 'e', 'l', 'l', 'o']\n",
      "['h', 'a', 'l', 'l', 'o']\n"
     ]
    }
   ],
   "source": [
    "lista_de_listas = [['h', 'o', 'l', 'i', 's'], ['h', 'e', 'l', 'l', 'o'], ['h', 'a', 'l', 'l', 'o']]\n",
    "def imprimir_enlistador():\n",
    "    for lista in lista_de_listas:\n",
    "        print(lista)\n",
    "imprimir_enlistador()  "
   ]
  },
  {
   "cell_type": "code",
   "execution_count": null,
   "id": "fa9a6303",
   "metadata": {},
   "outputs": [],
   "source": [
    "intentos = 3\n",
    "\n",
    "while intentos > 0 :\n",
    "    print(f\"te quedan {intentos} intentos\")\n",
    "    palabra= input(\"ingrese la palabra\")\n",
    "    intentos= intentos - 1\n",
    "print(\"te quedaste sin intentos\")\n"
   ]
  },
  {
   "cell_type": "markdown",
   "id": "e849eaa6",
   "metadata": {},
   "source": [
    "Iniciar el juego \n",
    "definir la palabra_a_encontar\n",
    "definir cantidad_de_letras\n",
    "definir intentos\n",
    "crear grilla vacia (lista para mostrar el progreso del jugador)\n",
    "\n",
    "\n",
    "\n",
    "\n"
   ]
  },
  {
   "cell_type": "code",
   "execution_count": null,
   "id": "381bef42",
   "metadata": {},
   "outputs": [],
   "source": [
    "palabra_secreta = input(\"Introduce la palabra correcta\")\n",
    "cantidad_de_letras = len(palabra_secreta)\n",
    "print(cantidad_de_letras)\n",
    "\n",
    "print"
   ]
  },
  {
   "cell_type": "code",
   "execution_count": null,
   "id": "d499334f",
   "metadata": {},
   "outputs": [],
   "source": [
    "def obtener_fila_verificada(palabra_secreta , palabra_ingresada):\n",
    "    \n",
    "    cantidad_de_letras_a_encontrar=cantidad_de_letras\n",
    "    \n",
    "    letras_verificadas = []\n",
    "    # \n",
    "    for posicion in range (cantidad_de_letras_a_encontrar):\n",
    "        las_letras_son_iguales = palabra_secreta[posicion] == palabra_ingresada[posicion]\n",
    "     #SE verifica la cantidad de las letras que existen en la palabra a encontar\n",
    "        la_letra_existe_en_palabra = palabra_ingresada[posicion] in palabra_secreta\n",
    "    if las_letras_son_iguales:\n",
    "        letras_verificadas.append(\"[\" + palabra_ingresada[posicion] + \"]\")\n",
    "    elif la_letra_existe_en_palabra:\n",
    "        letras_verificadas.append(\"(\" + palabra_ingresada[posicion] + \")\")\n",
    "    else:\n",
    "        letras_verificadas.append(palabra_ingresada[posicion])\n",
    "    return letras_verificadas\n",
    "\n",
    "palabra_secreta = input(\"Palabra secreta\")\n",
    "cantidad_de_letras(f\"La palabra secreta tiene {cantidad_de_letras} letras\")\n",
    "\n",
    "intentos = 5\n",
    "\n",
    "while intentos > 0 :\n",
    "    palabra_tentativa = input(\"Introduce la palabra secreta\")\n",
    "    obtener_fila_verificada(palabra_secreta, palabra_tentativa)\n",
    "    linea_verificada= obtener_fila_verificada(palabra_secreta,palabra_tentativa)\n",
    "    lista_auxiliar.append(linea_verificada)\n",
    "    if palabra_secreta == palabra_tentativa:\n",
    "        print(\"Haz acertado\")\n",
    "    elif intentos == 0\n",
    "        print(\"Te quedaste sin intentos\")\n",
    "    else:\n",
    "        intentos = intentos - 1\n",
    "        print(linea_verificada)\n",
    "        print(f\"te quedan {intentos} intentos\")\n",
    "    "
   ]
  }
 ],
 "metadata": {
  "kernelspec": {
   "display_name": "Python 3",
   "language": "python",
   "name": "python3"
  },
  "language_info": {
   "codemirror_mode": {
    "name": "ipython",
    "version": 3
   },
   "file_extension": ".py",
   "mimetype": "text/x-python",
   "name": "python",
   "nbconvert_exporter": "python",
   "pygments_lexer": "ipython3",
   "version": "3.13.3"
  }
 },
 "nbformat": 4,
 "nbformat_minor": 5
}
